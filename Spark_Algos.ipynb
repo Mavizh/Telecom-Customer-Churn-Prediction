{
  "nbformat": 4,
  "nbformat_minor": 0,
  "metadata": {
    "kernelspec": {
      "display_name": "Python 3",
      "language": "python",
      "name": "python3"
    },
    "language_info": {
      "codemirror_mode": {
        "name": "ipython",
        "version": 3
      },
      "file_extension": ".py",
      "mimetype": "text/x-python",
      "name": "python",
      "nbconvert_exporter": "python",
      "pygments_lexer": "ipython3",
      "version": "3.8.3"
    },
    "colab": {
      "name": "Spark Algos.ipynb",
      "provenance": [],
      "collapsed_sections": []
    }
  },
  "cells": [
    {
      "cell_type": "code",
      "metadata": {
        "id": "YApqWcigj8Nv"
      },
      "source": [
        "# innstall java\n",
        "!apt-get install openjdk-8-jdk-headless -qq > /dev/null\n",
        "\n",
        "# install spark (change the version number if needed)\n",
        "!wget -q https://archive.apache.org/dist/spark/spark-3.0.0/spark-3.0.0-bin-hadoop3.2.tgz\n",
        "\n",
        "# unzip the spark file to the current folder\n",
        "!tar xf spark-3.0.0-bin-hadoop3.2.tgz\n",
        "\n",
        "# set your spark folder to your system path environment. \n",
        "\n",
        "\n",
        "\n",
        "# install findspark using pip\n",
        "!pip install -q findspark"
      ],
      "execution_count": null,
      "outputs": []
    },
    {
      "cell_type": "code",
      "metadata": {
        "id": "WvsgLbgsi-sU"
      },
      "source": [
        "import os\n",
        "os.environ[\"JAVA_HOME\"] = \"/usr/lib/jvm/java-8-openjdk-amd64\"\n",
        "os.environ[\"SPARK_HOME\"] = \"/content/spark-3.0.0-bin-hadoop3.2\""
      ],
      "execution_count": null,
      "outputs": []
    },
    {
      "cell_type": "code",
      "metadata": {
        "id": "Tn6ohxS-l71y"
      },
      "source": [
        "import findspark\n",
        "findspark.init()"
      ],
      "execution_count": null,
      "outputs": []
    },
    {
      "cell_type": "code",
      "metadata": {
        "id": "FX7VXkgHom4a"
      },
      "source": [
        "import pyspark # only run after findspark.init()\n",
        "from pyspark.sql import SparkSession\n",
        "\n",
        "memory = '8g'\n",
        "pyspark_submit_args = ' --driver-memory ' + memory + ' pyspark-shell'\n",
        "os.environ[\"PYSPARK_SUBMIT_ARGS\"] = pyspark_submit_args\n",
        "\n",
        "# start a spark session \n",
        "spark = SparkSession.builder.master(\"local[*]\").getOrCreate()\n",
        "\n",
        "# load data with inferred schema \n",
        "df = spark.read.options(header='True', inferSchema='True', delimiter=',') \\\n",
        "  .csv(\"Complete_Data_BDT.csv\")\n",
        "#df = spark.read.load(\"C:/Users/Admin/Downloads/Complete_Data_BDT.csv\", format=\"csv\", inferSchema=\"true\", header=\"true\")\n",
        "\n",
        "# The inferred schema can be seen using .printSchema().\n",
        "#df.printSchema()"
      ],
      "execution_count": null,
      "outputs": []
    },
    {
      "cell_type": "code",
      "metadata": {
        "id": "wDkTGoCJmzoE"
      },
      "source": [
        "import pandas as pd\n",
        "\n",
        "#Converting spark df into pandas just for using SMOTE\n",
        "df = df.toPandas()\n",
        "\n",
        "#splitting X and Y sets and the test train data\n",
        "y = df.CHURN\n",
        "x = df.drop(columns=['CHURN'])"
      ],
      "execution_count": null,
      "outputs": []
    },
    {
      "cell_type": "code",
      "metadata": {
        "id": "fP33lTShnJc8"
      },
      "source": [
        "#splitting test and train sets\n",
        "\n",
        "from sklearn.model_selection import train_test_split\n",
        "x_train, x_test, y_train, y_test = train_test_split(x, y, test_size = 0.2, random_state = 1)"
      ],
      "execution_count": null,
      "outputs": []
    },
    {
      "cell_type": "markdown",
      "metadata": {
        "id": "00CUW9F70rCT"
      },
      "source": [
        "Upsample is done only for train dataset and test should be untouched"
      ]
    },
    {
      "cell_type": "code",
      "metadata": {
        "id": "4fuXMsZCnS5G",
        "colab": {
          "base_uri": "https://localhost:8080/"
        },
        "outputId": "cc8a5d8f-c8ed-4df5-d2c6-7b9083d02dd8"
      },
      "source": [
        "from imblearn.over_sampling import SMOTE\n",
        "os = SMOTE(random_state=0)\n",
        "#columns = X_train.columns\n",
        "os_data_x,os_data_y=os.fit_resample(x_train, y_train)\n",
        "x_train = pd.DataFrame(data=os_data_x, )\n",
        "y_train = pd.DataFrame(data=os_data_y,columns=['CHURN'])\n",
        "# we can Check the numbers of our data\n",
        "print(\"length of oversampled data is \",len(x_train))\n",
        "print(\"Number of no subscription in oversampled data\",len(y_train[y_train['CHURN']==0]))\n",
        "print(\"Number of subscription\",len(y_train[y_train['CHURN']==1]))\n",
        "print(\"Proportion of no subscription data in oversampled data is \",len(y_train[y_train['CHURN']==0])/len(x_train))\n",
        "print(\"Proportion of subscription data in oversampled data is \",len(y_train[y_train['CHURN']==1])/len(x_train))"
      ],
      "execution_count": null,
      "outputs": [
        {
          "output_type": "stream",
          "name": "stdout",
          "text": [
            "length of oversampled data is  837618\n",
            "Number of no subscription in oversampled data 418809\n",
            "Number of subscription 418809\n",
            "Proportion of no subscription data in oversampled data is  0.5\n",
            "Proportion of subscription data in oversampled data is  0.5\n"
          ]
        }
      ]
    },
    {
      "cell_type": "markdown",
      "metadata": {
        "id": "2PeL2KaHt0fT"
      },
      "source": [
        "Now the pandas df is converted back to spark df for further modelling"
      ]
    },
    {
      "cell_type": "code",
      "metadata": {
        "id": "odAyPAUUwmGP",
        "colab": {
          "base_uri": "https://localhost:8080/"
        },
        "outputId": "ac218182-04e3-42a7-a586-502b593ff389"
      },
      "source": [
        "combined_train_dataset = pd.concat([x_train,y_train], axis=1, join='inner')\n",
        "combined_train_dataset.info()"
      ],
      "execution_count": null,
      "outputs": [
        {
          "output_type": "stream",
          "name": "stdout",
          "text": [
            "<class 'pandas.core.frame.DataFrame'>\n",
            "RangeIndex: 837618 entries, 0 to 837617\n",
            "Columns: 138 entries, MONTANT to CHURN\n",
            "dtypes: float64(10), int32(128)\n",
            "memory usage: 472.9 MB\n"
          ]
        }
      ]
    },
    {
      "cell_type": "code",
      "metadata": {
        "id": "d2LEa25p0ft-",
        "colab": {
          "base_uri": "https://localhost:8080/"
        },
        "outputId": "94bb6ea2-db17-4e9d-f1bf-fa039f0d097d"
      },
      "source": [
        "combined_test_dataset = pd.concat([x_test,y_test], axis=1, join='inner')\n",
        "combined_test_dataset.info()"
      ],
      "execution_count": null,
      "outputs": [
        {
          "output_type": "stream",
          "name": "stdout",
          "text": [
            "<class 'pandas.core.frame.DataFrame'>\n",
            "Int64Index: 107246 entries, 236859 to 110351\n",
            "Columns: 138 entries, MONTANT to CHURN\n",
            "dtypes: float64(10), int32(128)\n",
            "memory usage: 66.4 MB\n"
          ]
        }
      ]
    },
    {
      "cell_type": "code",
      "metadata": {
        "id": "bM72ZN8ItYnp"
      },
      "source": [
        "# Enable Arrow-based columnar data transfers\n",
        "spark.conf.set(\"spark.sql.execution.arrow.enabled\", \"true\")\n",
        "#converting to spark df\n",
        "train_dataset = spark.createDataFrame(combined_train_dataset)\n",
        "test_dataset = spark.createDataFrame(combined_test_dataset)"
      ],
      "execution_count": null,
      "outputs": []
    },
    {
      "cell_type": "markdown",
      "metadata": {
        "id": "PgpiEZ2tCR3H"
      },
      "source": [
        "Now createing feature vector using vectorAssemebler"
      ]
    },
    {
      "cell_type": "code",
      "metadata": {
        "id": "YGDRg5l3Dt_s"
      },
      "source": [
        "#vector assembler threw error since one column header contains '.' . removing column headers before passing it to the function\n",
        "tempList = [] #Edit01\n",
        "for col in train_dataset.columns:\n",
        "  new_name = col.strip()\n",
        "  #new_name = \"\".join(new_name.split())\n",
        "  new_name = new_name.replace('.','point') # EDIT\n",
        "  tempList.append(new_name) #Edit02\n",
        "#print(tempList) #Just for the sake of it #Edit03\n",
        "\n",
        "train_dataset = train_dataset.toDF(*tempList)\n",
        "test_dataset = test_dataset.toDF(*tempList)"
      ],
      "execution_count": null,
      "outputs": []
    },
    {
      "cell_type": "code",
      "metadata": {
        "id": "LDBGqCQOCRFm"
      },
      "source": [
        "import time\n",
        "from pyspark.ml.feature import VectorAssembler\n",
        "inputCols = train_dataset.drop('CHURN').columns\n",
        "outputCol = \"features\"\n",
        "assembler = VectorAssembler(inputCols = inputCols, outputCol = outputCol)\n",
        "df_va_train = assembler.transform(train_dataset)\n",
        "\n",
        "df_va_test = assembler.transform(test_dataset)"
      ],
      "execution_count": null,
      "outputs": []
    },
    {
      "cell_type": "code",
      "metadata": {
        "colab": {
          "base_uri": "https://localhost:8080/"
        },
        "id": "w6CEc9b8t7fN",
        "outputId": "b8e11d08-d6ad-46b5-d717-4cc6b1966753"
      },
      "source": [
        "df_va_train.show()"
      ],
      "execution_count": null,
      "outputs": [
        {
          "output_type": "stream",
          "name": "stdout",
          "text": [
            "+------------+--------------+------------+------------+------------+------------+------------+------------+------------+-------------+---------------+-------------+---------------+--------------+---------------+------------+------------+------------+------------+------------------+--------------+------------------+------------+-----------------+------------------+-------------------+--------------------+--------------------+--------------------+--------------------+-------------------+---------------------------+--------------------------+------------------------------+------------------+--------------------------+-----------------------+-----------------------------+----------------------------------------------+---------------------------+-------------------------------------------+----------------------------------------+---------------------------------------------+-------------------------------------------------+------------------------------+--------------------------------+--------------------------------+---------------------------+------------------------+-----------------------+---------------------+------------------------------+-----------------------------------+-----------------------------+------------------------------+---------------------------+---------------------------------+---------------------------+--------------------------+---------------------------+----------------------------------+---------------------------------+--------------------------------+----------------------------+---------------------------+----------------------------+-------------------------+--------------------------+--------------------------+-------------------------------+--------------------------------+----------------------------------------+-------------------------------------+--------------------------+------------------------+------------------+----------------+------------------------+----------------------+------------------+--------------------+-------------------------+-----------------------+----------------------+-------------------------+----------------------+------------------------+-----------------------+----------------------------+------------------------------+----------------------------+-----------------------------------+-----------------------------------+-----------------------------------+--------------------+----------------------+---------------------+--------------------+------------------------------------------------+----------------------------------------------+-------------------------------------------+-------------------------------------------------+------------------------------------------------------+------------------------------------------------+-----------------------------------------------+----------------------------------------------------------+--------------------------------------------------+----------------------------+---------------------------+------------------------------------+-----------------------------------------------+------------------------------------------+--------------------------+--------------------+-------------------------------------+---------------------------------------+--------------------------------+-----------------------------------------+----------------------------+-----------------------------+----------------------------+---------------------------+-------------------------+-------------------------+------------------------+------------------------+-------------------------+---------------------------+-----------------------------+----------------------------+-----------------------------+-------------------------------+------------------------------+-----------------------------------------+----------------------+----------------------------+---------------------+-----+--------------------+\n",
            "|     MONTANT|FREQUENCE_RECH|ARPU_SEGMENT|   FREQUENCE| DATA_VOLUME|      ON_NET|      ORANGE|        TIGO|  REGULARITY|FREQ_TOP_PACK|REGION_DIOURBEL|REGION_FATICK|REGION_KAFFRINE|REGION_KAOLACK|REGION_KEDOUGOU|REGION_KOLDA|REGION_LOUGA|REGION_MATAM|REGION_Other|REGION_SAINT-LOUIS|REGION_SEDHIOU|REGION_TAMBACOUNDA|REGION_THIES|REGION_ZIGUINCHOR|TENURE_E 6-9 month|TENURE_F 9-12 month|TENURE_G 12-15 month|TENURE_H 15-18 month|TENURE_I 18-21 month|TENURE_J 21-24 month|TENURE_K > 24 month|TOP_PACK_1500=Unlimited7Day|TOP_PACK_200=Unlimited1Day|TOP_PACK_200F=10mnOnNetValid1H|TOP_PACK_305155009|TOP_PACK_500=Unlimited3Day|TOP_PACK_APANews_weekly|TOP_PACK_All-net 1000=5000;5d|TOP_PACK_All-net 1000F=(3000F On+3000F Off);5d|TOP_PACK_All-net 300=600;2d|TOP_PACK_All-net 5000= 20000off+20000on;30d|TOP_PACK_All-net 500= 4000off+4000on;24H|TOP_PACK_All-net 500F =2000F_AllNet_Unlimited|TOP_PACK_All-net 500F=1250F_AllNet_1250_Onnet;48h|TOP_PACK_All-net 500F=2000F;5d|TOP_PACK_All-net 500F=4000F ; 5d|TOP_PACK_All-net 600F= 3000F ;5d|TOP_PACK_CVM_100F_unlimited|TOP_PACK_CVM_100f=200 MB|TOP_PACK_CVM_200f=400MB|TOP_PACK_CVM_500f=2GB|TOP_PACK_CVM_On-net 400f=2200F|TOP_PACK_CVM_on-net bundle 500=5000|TOP_PACK_Data: 100 F=40MB,24H|TOP_PACK_Data: 200 F=100MB,24H|TOP_PACK_Data: 200F=1GB,24H|TOP_PACK_Data: 490F=Night,00H-08H|TOP_PACK_Data:1000F=2GB,30d|TOP_PACK_Data:1000F=5GB,7d|TOP_PACK_Data:1500F=3GB,30D|TOP_PACK_Data:1500F=SPPackage1,30d|TOP_PACK_Data:150F=SPPackage1,24H|TOP_PACK_Data:200F=Unlimited,24H|TOP_PACK_Data:3000F=10GB,30d|TOP_PACK_Data:300F=100MB,2d|TOP_PACK_Data:30Go_V 30_Days|TOP_PACK_Data:490F=1GB,7d|TOP_PACK_Data:500F=2GB,24H|TOP_PACK_Data:50F=30MB_24H|TOP_PACK_Data:700F=1point5GB,7d|TOP_PACK_Data:700F=SPPackage1,7d|TOP_PACK_Data:DailyCycle_Pilot_1point5GB|TOP_PACK_Data:OneTime_Pilot_1point5GB|TOP_PACK_DataPack_Incoming|TOP_PACK_Data_EVC_2Go24H|TOP_PACK_EVC_100Mo|TOP_PACK_EVC_1Go|TOP_PACK_EVC_4900=12000F|TOP_PACK_EVC_500=2000F|TOP_PACK_EVC_700Mo|TOP_PACK_EVC_JOKKO30|TOP_PACK_EVC_Jokko_Weekly|TOP_PACK_EVC_MEGA10000F|TOP_PACK_FIFA_TS_daily|TOP_PACK_FNF2 ( JAPPANTE)|TOP_PACK_FNF_Youth_ESN|TOP_PACK_Facebook_MIX_2D|TOP_PACK_Go-NetPro-4 Go|TOP_PACK_IVR Echat_Daily_50F|TOP_PACK_IVR Echat_Weekly_200F|TOP_PACK_Incoming_Bonus_woma|TOP_PACK_Internat: 1000F_Zone_1;24H|TOP_PACK_Internat: 1000F_Zone_3;24h|TOP_PACK_Internat: 2000F_Zone_2;24H|TOP_PACK_Jokko_Daily|TOP_PACK_Jokko_Monthly|TOP_PACK_Jokko_Weekly|TOP_PACK_Jokko_promo|TOP_PACK_MIXT: 200mnoff net _unl on net _5Go;30d|TOP_PACK_MIXT: 390F=04HOn-net_400SMS_400 Mo;4h|TOP_PACK_MIXT: 4900F= 10H on net_1,5Go ;30d|TOP_PACK_MIXT: 5000F=80Konnet_20Koffnet_250Mo;30d|TOP_PACK_MIXT: 500F=75(SMS, ONNET, Mo)_1000FAllNet;24h|TOP_PACK_MIXT: 590F=02H_On-net_200SMS_200 Mo;24h|TOP_PACK_MIXT:10000F=10hAllnet_3Go_1h_Zone3;30d|TOP_PACK_MIXT:1000F=4250 Off net _ 4250F On net _100Mo; 5d|TOP_PACK_MIXT:500F= 2500F on net _2500F off net;2d|TOP_PACK_MROMO_TIMWES_OneDAY|TOP_PACK_MROMO_TIMWES_RENEW|TOP_PACK_Mixt 250F=Unlimited_call24H|TOP_PACK_Mixt : 500F=2500Fonnet_2500Foffnet ;5d|TOP_PACK_NEW_CLIR_PERMANENT_LIBERTE_MOBILE|TOP_PACK_New_YAKALMA_4_ALL|TOP_PACK_No Top pack|TOP_PACK_On net 200F= 3000F_10Mo ;24H|TOP_PACK_On net 200F=Unlimited _call24H|TOP_PACK_On-net 1000F=10MilF;10d|TOP_PACK_On-net 2000f_One_Month_100H; 30d|TOP_PACK_On-net 200F=60mn;1d|TOP_PACK_On-net 300F=1800F;3d|TOP_PACK_On-net 500=4000,10d|TOP_PACK_On-net 500F_FNF;3d|TOP_PACK_Pilot_Youth1_290|TOP_PACK_Pilot_Youth4_490|TOP_PACK_SUPERMAGIK_1000|TOP_PACK_SUPERMAGIK_5000|TOP_PACK_TelmunCRBT_daily|TOP_PACK_Twter_U2opia_Daily|TOP_PACK_Twter_U2opia_Monthly|TOP_PACK_Twter_U2opia_Weekly|TOP_PACK_VAS(IVR_Radio_Daily)|TOP_PACK_VAS(IVR_Radio_Monthly)|TOP_PACK_VAS(IVR_Radio_Weekly)|TOP_PACK_YMGX 100=1 hour FNF, 24H/1 month|TOP_PACK_Yewouleen_PKG|TOP_PACK_pack_chinguitel_24h|TOP_PACK_pilot_offer7|CHURN|            features|\n",
            "+------------+--------------+------------+------------+------------+------------+------------+------------+------------+-------------+---------------+-------------+---------------+--------------+---------------+------------+------------+------------+------------+------------------+--------------+------------------+------------+-----------------+------------------+-------------------+--------------------+--------------------+--------------------+--------------------+-------------------+---------------------------+--------------------------+------------------------------+------------------+--------------------------+-----------------------+-----------------------------+----------------------------------------------+---------------------------+-------------------------------------------+----------------------------------------+---------------------------------------------+-------------------------------------------------+------------------------------+--------------------------------+--------------------------------+---------------------------+------------------------+-----------------------+---------------------+------------------------------+-----------------------------------+-----------------------------+------------------------------+---------------------------+---------------------------------+---------------------------+--------------------------+---------------------------+----------------------------------+---------------------------------+--------------------------------+----------------------------+---------------------------+----------------------------+-------------------------+--------------------------+--------------------------+-------------------------------+--------------------------------+----------------------------------------+-------------------------------------+--------------------------+------------------------+------------------+----------------+------------------------+----------------------+------------------+--------------------+-------------------------+-----------------------+----------------------+-------------------------+----------------------+------------------------+-----------------------+----------------------------+------------------------------+----------------------------+-----------------------------------+-----------------------------------+-----------------------------------+--------------------+----------------------+---------------------+--------------------+------------------------------------------------+----------------------------------------------+-------------------------------------------+-------------------------------------------------+------------------------------------------------------+------------------------------------------------+-----------------------------------------------+----------------------------------------------------------+--------------------------------------------------+----------------------------+---------------------------+------------------------------------+-----------------------------------------------+------------------------------------------+--------------------------+--------------------+-------------------------------------+---------------------------------------+--------------------------------+-----------------------------------------+----------------------------+-----------------------------+----------------------------+---------------------------+-------------------------+-------------------------+------------------------+------------------------+-------------------------+---------------------------+-----------------------------+----------------------------+-----------------------------+-------------------------------+------------------------------+-----------------------------------------+----------------------+----------------------------+---------------------+-----+--------------------+\n",
            "|-0.853655602|  -0.854446657|-0.854349191|-0.594111697|-0.452242668|-0.363400022|-0.531390018| -0.37139143|-0.879382391| -0.792487905|              0|            0|              0|             0|              0|           0|           0|           0|           0|                 1|             0|                 0|           0|                0|                 0|                  0|                   0|                   0|                   0|                   0|                  1|                          0|                         0|                             0|                 0|                         0|                      0|                            0|                                             0|                          0|                                          0|                                       0|                                            0|                                                0|                             0|                               0|                               0|                          0|                       0|                      0|                    0|                             0|                                  0|                            1|                             0|                          0|                                0|                          0|                         0|                          0|                                 0|                                0|                               0|                           0|                          0|                           0|                        0|                         0|                         0|                              0|                               0|                                       0|                                    0|                         0|                       0|                 0|               0|                       0|                     0|                 0|                   0|                        0|                      0|                     0|                        0|                     0|                       0|                      0|                           0|                             0|                           0|                                  0|                                  0|                                  0|                   0|                     0|                    0|                   0|                                               0|                                             0|                                          0|                                                0|                                                     0|                                               0|                                              0|                                                         0|                                                 0|                           0|                          0|                                   0|                                              0|                                         0|                         0|                   0|                                    0|                                      0|                               0|                                        0|                           0|                            0|                           0|                          0|                        0|                        0|                       0|                       0|                        0|                          0|                            0|                           0|                            0|                              0|                             0|                                        0|                     0|                           0|                    0|    0|(137,[0,1,2,3,4,5...|\n",
            "|-0.731654855|  -0.010737747|-0.727588549|-0.172071006|-0.351582447|-0.375405239|-0.440016615|-0.327560704|-2.233780515|  0.272243328|              0|            0|              0|             0|              0|           0|           0|           0|           1|                 0|             0|                 0|           0|                0|                 0|                  0|                   0|                   0|                   0|                   0|                  1|                          0|                         0|                             0|                 0|                         0|                      0|                            0|                                             0|                          0|                                          0|                                       0|                                            0|                                                0|                             0|                               0|                               0|                          0|                       0|                      0|                    0|                             0|                                  0|                            1|                             0|                          0|                                0|                          0|                         0|                          0|                                 0|                                0|                               0|                           0|                          0|                           0|                        0|                         0|                         0|                              0|                               0|                                       0|                                    0|                         0|                       0|                 0|               0|                       0|                     0|                 0|                   0|                        0|                      0|                     0|                        0|                     0|                       0|                      0|                           0|                             0|                           0|                                  0|                                  0|                                  0|                   0|                     0|                    0|                   0|                                               0|                                             0|                                          0|                                                0|                                                     0|                                               0|                                              0|                                                         0|                                                 0|                           0|                          0|                                   0|                                              0|                                         0|                         0|                   0|                                    0|                                      0|                               0|                                        0|                           0|                            0|                           0|                          0|                        0|                        0|                       0|                       0|                        0|                          0|                            0|                           0|                            0|                              0|                             0|                                        0|                     0|                           0|                    0|    1|(137,[0,1,2,3,4,5...|\n",
            "| 0.268751269|     2.0011835| 0.294037582| 1.938132446| 0.126230972| 2.172471373|-0.408234562|-0.108407072| 0.861986625|  1.620902889|              0|            0|              0|             0|              0|           0|           0|           0|           0|                 1|             0|                 0|           0|                0|                 0|                  0|                   0|                   0|                   0|                   0|                  1|                          0|                         0|                             0|                 0|                         0|                      0|                            0|                                             0|                          0|                                          0|                                       0|                                            0|                                                0|                             0|                               0|                               0|                          0|                       0|                      0|                    0|                             0|                                  0|                            0|                             0|                          0|                                0|                          0|                         0|                          0|                                 0|                                0|                               0|                           0|                          0|                           0|                        0|                         0|                         0|                              0|                               0|                                       1|                                    0|                         0|                       0|                 0|               0|                       0|                     0|                 0|                   0|                        0|                      0|                     0|                        0|                     0|                       0|                      0|                           0|                             0|                           0|                                  0|                                  0|                                  0|                   0|                     0|                    0|                   0|                                               0|                                             0|                                          0|                                                0|                                                     0|                                               0|                                              0|                                                         0|                                                 0|                           0|                          0|                                   0|                                              0|                                         0|                         0|                   0|                                    0|                                      0|                               0|                                        0|                           0|                            0|                           0|                          0|                        0|                        0|                       0|                       0|                        0|                          0|                            0|                           0|                            0|                              0|                             0|                                        0|                     0|                           0|                    0|    0|(137,[0,1,2,3,4,5...|\n",
            "| 0.146750522|   0.054162939| 0.122390028|-0.172071006|-0.463319594| -0.31537915| 0.445908116| -0.37139143| 0.217035137|  0.272243328|              0|            0|              0|             0|              0|           0|           0|           0|           0|                 1|             0|                 0|           0|                0|                 0|                  0|                   0|                   0|                   0|                   0|                  1|                          0|                         0|                             0|                 0|                         0|                      0|                            0|                                             0|                          0|                                          0|                                       0|                                            1|                                                0|                             0|                               0|                               0|                          0|                       0|                      0|                    0|                             0|                                  0|                            0|                             0|                          0|                                0|                          0|                         0|                          0|                                 0|                                0|                               0|                           0|                          0|                           0|                        0|                         0|                         0|                              0|                               0|                                       0|                                    0|                         0|                       0|                 0|               0|                       0|                     0|                 0|                   0|                        0|                      0|                     0|                        0|                     0|                       0|                      0|                           0|                             0|                           0|                                  0|                                  0|                                  0|                   0|                     0|                    0|                   0|                                               0|                                             0|                                          0|                                                0|                                                     0|                                               0|                                              0|                                                         0|                                                 0|                           0|                          0|                                   0|                                              0|                                         0|                         0|                   0|                                    0|                                      0|                               0|                                        0|                           0|                            0|                           0|                          0|                        0|                        0|                       0|                       0|                        0|                          0|                            0|                           0|                            0|                              0|                             0|                                        0|                     0|                           0|                    0|    0|(137,[0,1,2,3,4,5...|\n",
            "| 3.404170461|   1.611779388| 3.634701166| 1.395508701| 2.595417583| 5.673377586| 7.493578397| 2.039298519| 0.926481773|  1.904831217|              0|            0|              0|             0|              0|           0|           0|           0|           0|                 0|             0|                 0|           0|                0|                 0|                  0|                   0|                   0|                   0|                   0|                  1|                          0|                         0|                             0|                 0|                         0|                      0|                            0|                                             0|                          0|                                          0|                                       0|                                            0|                                                0|                             0|                               0|                               0|                          0|                       0|                      0|                    0|                             0|                                  0|                            0|                             0|                          0|                                0|                          0|                         0|                          0|                                 0|                                0|                               0|                           0|                          0|                           0|                        0|                         0|                         0|                              0|                               0|                                       0|                                    0|                         0|                       0|                 0|               0|                       0|                     0|                 0|                   0|                        0|                      0|                     0|                        0|                     0|                       0|                      0|                           0|                             0|                           0|                                  0|                                  0|                                  0|                   1|                     0|                    0|                   0|                                               0|                                             0|                                          0|                                                0|                                                     0|                                               0|                                              0|                                                         0|                                                 0|                           0|                          0|                                   0|                                              0|                                         0|                         0|                   0|                                    0|                                      0|                               0|                                        0|                           0|                            0|                           0|                          0|                        0|                        0|                       0|                       0|                        0|                          0|                            0|                           0|                            0|                              0|                             0|                                        0|                     0|                           0|                    0|    0|(137,[0,1,2,3,4,5...|\n",
            "| 0.659153658|   0.248864995| 0.624764354| 0.249969684| 2.185248692|  -0.3643235|-0.436043859| -0.37139143| 0.668501178| -0.011685001|              0|            0|              0|             0|              0|           0|           0|           0|           1|                 0|             0|                 0|           0|                0|                 0|                  0|                   0|                   0|                   0|                   0|                  1|                          0|                         0|                             0|                 0|                         0|                      0|                            0|                                             0|                          0|                                          0|                                       0|                                            0|                                                0|                             0|                               0|                               0|                          0|                       0|                      0|                    0|                             0|                                  0|                            0|                             0|                          0|                                0|                          0|                         0|                          0|                                 0|                                0|                               0|                           0|                          0|                           0|                        1|                         0|                         0|                              0|                               0|                                       0|                                    0|                         0|                       0|                 0|               0|                       0|                     0|                 0|                   0|                        0|                      0|                     0|                        0|                     0|                       0|                      0|                           0|                             0|                           0|                                  0|                                  0|                                  0|                   0|                     0|                    0|                   0|                                               0|                                             0|                                          0|                                                0|                                                     0|                                               0|                                              0|                                                         0|                                                 0|                           0|                          0|                                   0|                                              0|                                         0|                         0|                   0|                                    0|                                      0|                               0|                                        0|                           0|                            0|                           0|                          0|                        0|                        0|                       0|                       0|                        0|                          0|                            0|                           0|                            0|                              0|                             0|                                        0|                     0|                           0|                    0|    0|(137,[0,1,2,3,4,5...|\n",
            "|-0.646254332|  -0.854446657|-0.476221839|-0.774986278| 0.317872546|-0.368940891|-0.535362775| 0.154577286|  0.60400603| -0.579541658|              0|            0|              0|             0|              0|           0|           0|           0|           0|                 0|             0|                 0|           0|                0|                 0|                  0|                   0|                   0|                   0|                   0|                  1|                          0|                         0|                             0|                 0|                         0|                      0|                            0|                                             0|                          0|                                          0|                                       0|                                            0|                                                0|                             0|                               0|                               0|                          0|                       0|                      0|                    0|                             0|                                  0|                            0|                             0|                          0|                                0|                          1|                         0|                          0|                                 0|                                0|                               0|                           0|                          0|                           0|                        0|                         0|                         0|                              0|                               0|                                       0|                                    0|                         0|                       0|                 0|               0|                       0|                     0|                 0|                   0|                        0|                      0|                     0|                        0|                     0|                       0|                      0|                           0|                             0|                           0|                                  0|                                  0|                                  0|                   0|                     0|                    0|                   0|                                               0|                                             0|                                          0|                                                0|                                                     0|                                               0|                                              0|                                                         0|                                                 0|                           0|                          0|                                   0|                                              0|                                         0|                         0|                   0|                                    0|                                      0|                               0|                                        0|                           0|                            0|                           0|                          0|                        0|                        0|                       0|                       0|                        0|                          0|                            0|                           0|                            0|                              0|                             0|                                        0|                     0|                           0|                    0|    0|(137,[0,1,2,3,4,5...|\n",
            "| -0.53645366|   -0.52994323|-0.433130403|-0.413237115|-0.383415167|-0.314455672|-0.503580721| -0.37139143|-0.621401796| -0.721505823|              0|            0|              0|             0|              0|           0|           0|           0|           1|                 0|             0|                 0|           0|                0|                 0|                  0|                   0|                   0|                   0|                   0|                  1|                          0|                         0|                             0|                 0|                         0|                      0|                            0|                                             0|                          0|                                          0|                                       0|                                            0|                                                0|                             0|                               0|                               0|                          0|                       0|                      0|                    0|                             0|                                  0|                            0|                             0|                          0|                                0|                          0|                         0|                          0|                                 0|                                0|                               0|                           0|                          0|                           0|                        0|                         0|                         0|                              0|                               0|                                       0|                                    0|                         0|                       0|                 0|               0|                       0|                     0|                 0|                   0|                        0|                      0|                     0|                        0|                     0|                       0|                      0|                           0|                             0|                           0|                                  0|                                  0|                                  0|                   0|                     0|                    0|                   0|                                               0|                                             0|                                          0|                                                0|                                                     0|                                               0|                                              0|                                                         0|                                                 0|                           0|                          0|                                   0|                                              0|                                         0|                         0|                   0|                                    0|                                      0|                               0|                                        0|                           0|                            0|                           1|                          0|                        0|                        0|                       0|                       0|                        0|                          0|                            0|                           0|                            0|                              0|                             0|                                        0|                     0|                           0|                    0|    0|(137,[0,1,2,3,4,5...|\n",
            "| 2.345813983|   1.481978017| 2.339444415| 1.033759538| 0.152363914| 0.067864342| 2.626951512| 1.586381013| 0.475015732|  2.117777464|              0|            0|              0|             0|              0|           0|           0|           0|           0|                 0|             0|                 0|           0|                0|                 0|                  0|                   0|                   0|                   0|                   0|                  1|                          0|                         0|                             0|                 0|                         0|                      0|                            0|                                             0|                          0|                                          0|                                       0|                                            0|                                                0|                             0|                               0|                               0|                          0|                       0|                      0|                    0|                             0|                                  0|                            0|                             0|                          0|                                0|                          0|                         0|                          0|                                 0|                                0|                               0|                           0|                          0|                           0|                        0|                         0|                         0|                              0|                               0|                                       0|                                    0|                         0|                       0|                 0|               0|                       0|                     0|                 0|                   0|                        0|                      0|                     0|                        0|                     0|                       0|                      0|                           0|                             0|                           0|                                  0|                                  0|                                  0|                   0|                     0|                    0|                   0|                                               0|                                             0|                                          0|                                                0|                                                     0|                                               0|                                              0|                                                         0|                                                 1|                           0|                          0|                                   0|                                              0|                                         0|                         0|                   0|                                    0|                                      0|                               0|                                        0|                           0|                            0|                           0|                          0|                        0|                        0|                       0|                       0|                        0|                          0|                            0|                           0|                            0|                              0|                             0|                                        0|                     0|                           0|                    0|    0|(137,[0,1,2,3,4,5...|\n",
            "|-0.829255452|  -0.919347342| -0.83531714|-1.016152387|-0.116493513|-0.355088717|-0.515498991| -0.37139143|-1.137362986| -0.721505823|              0|            0|              0|             0|              0|           0|           0|           0|           0|                 0|             0|                 0|           0|                0|                 0|                  0|                   0|                   0|                   0|                   0|                  1|                          0|                         0|                             0|                 0|                         0|                      0|                            0|                                             0|                          0|                                          0|                                       0|                                            0|                                                0|                             0|                               0|                               0|                          0|                       0|                      0|                    0|                             0|                                  0|                            0|                             0|                          0|                                0|                          0|                         0|                          0|                                 0|                                0|                               0|                           0|                          0|                           0|                        1|                         0|                         0|                              0|                               0|                                       0|                                    0|                         0|                       0|                 0|               0|                       0|                     0|                 0|                   0|                        0|                      0|                     0|                        0|                     0|                       0|                      0|                           0|                             0|                           0|                                  0|                                  0|                                  0|                   0|                     0|                    0|                   0|                                               0|                                             0|                                          0|                                                0|                                                     0|                                               0|                                              0|                                                         0|                                                 0|                           0|                          0|                                   0|                                              0|                                         0|                         0|                   0|                                    0|                                      0|                               0|                                        0|                           0|                            0|                           0|                          0|                        0|                        0|                       0|                       0|                        0|                          0|                            0|                           0|                            0|                              0|                             0|                                        0|                     0|                           0|                    0|    0|(137,[0,1,2,3,4,5...|\n",
            "|-0.951256199|  -0.854446657|-0.975005212|-0.895569333| -0.46353468|-0.382793066|-0.531390018|-0.356781188|-0.492411499| -0.863469987|              0|            0|              0|             0|              0|           0|           0|           0|           0|                 0|             0|                 0|           1|                0|                 0|                  0|                   0|                   0|                   0|                   0|                  1|                          0|                         0|                             0|                 0|                         0|                      0|                            0|                                             0|                          0|                                          0|                                       0|                                            0|                                                0|                             0|                               0|                               0|                          0|                       0|                      0|                    0|                             0|                                  0|                            0|                             0|                          0|                                0|                          0|                         0|                          0|                                 0|                                0|                               0|                           0|                          0|                           0|                        0|                         0|                         0|                              0|                               0|                                       0|                                    0|                         0|                       0|                 0|               0|                       0|                     0|                 0|                   0|                        0|                      0|                     0|                        0|                     0|                       0|                      0|                           0|                             0|                           0|                                  0|                                  0|                                  0|                   0|                     0|                    0|                   0|                                               0|                                             0|                                          0|                                                0|                                                     0|                                               0|                                              0|                                                         0|                                                 0|                           0|                          0|                                   0|                                              0|                                         0|                         0|                   1|                                    0|                                      0|                               0|                                        0|                           0|                            0|                           0|                          0|                        0|                        0|                       0|                       0|                        0|                          0|                            0|                           0|                            0|                              0|                             0|                                        0|                     0|                           0|                    0|    0|(137,[0,1,2,3,4,5...|\n",
            "|-0.695054631|  -0.465042544|-0.734770455|-0.654403224|-0.051107387|-0.376328718|-0.519471748| -0.37139143|-0.685896945| -0.437577494|              0|            0|              0|             0|              0|           0|           0|           0|           1|                 0|             0|                 0|           0|                0|                 0|                  0|                   0|                   0|                   1|                   0|                  0|                          0|                         0|                             0|                 0|                         0|                      0|                            0|                                             0|                          0|                                          0|                                       0|                                            0|                                                0|                             0|                               0|                               0|                          0|                       0|                      0|                    0|                             0|                                  0|                            1|                             0|                          0|                                0|                          0|                         0|                          0|                                 0|                                0|                               0|                           0|                          0|                           0|                        0|                         0|                         0|                              0|                               0|                                       0|                                    0|                         0|                       0|                 0|               0|                       0|                     0|                 0|                   0|                        0|                      0|                     0|                        0|                     0|                       0|                      0|                           0|                             0|                           0|                                  0|                                  0|                                  0|                   0|                     0|                    0|                   0|                                               0|                                             0|                                          0|                                                0|                                                     0|                                               0|                                              0|                                                         0|                                                 0|                           0|                          0|                                   0|                                              0|                                         0|                         0|                   0|                                    0|                                      0|                               0|                                        0|                           0|                            0|                           0|                          0|                        0|                        0|                       0|                       0|                        0|                          0|                            0|                           0|                            0|                              0|                             0|                                        0|                     0|                           0|                    0|    0|(137,[0,1,2,3,4,5...|\n",
            "| 1.244757243|   1.611779388| 1.146529826| 1.335217174|  2.23041674|-0.284904367| 1.566225489| 1.454888834| 0.668501178|  0.272243328|              0|            0|              0|             0|              0|           0|           0|           0|           0|                 0|             0|                 0|           0|                0|                 0|                  0|                   0|                   0|                   0|                   0|                  1|                          0|                         0|                             0|                 0|                         0|                      0|                            0|                                             0|                          0|                                          0|                                       0|                                            0|                                                0|                             0|                               0|                               0|                          0|                       0|                      0|                    0|                             0|                                  0|                            0|                             0|                          0|                                0|                          0|                         0|                          0|                                 0|                                0|                               0|                           0|                          0|                           0|                        1|                         0|                         0|                              0|                               0|                                       0|                                    0|                         0|                       0|                 0|               0|                       0|                     0|                 0|                   0|                        0|                      0|                     0|                        0|                     0|                       0|                      0|                           0|                             0|                           0|                                  0|                                  0|                                  0|                   0|                     0|                    0|                   0|                                               0|                                             0|                                          0|                                                0|                                                     0|                                               0|                                              0|                                                         0|                                                 0|                           0|                          0|                                   0|                                              0|                                         0|                         0|                   0|                                    0|                                      0|                               0|                                        0|                           0|                            0|                           0|                          0|                        0|                        0|                       0|                       0|                        0|                          0|                            0|                           0|                            0|                              0|                             0|                                        0|                     0|                           0|                    0|    0|(137,[0,1,2,3,4,5...|\n",
            "|-0.158251345|  -0.205439803|-0.117126538|-0.413237115|-0.409440566| -0.31537915|-0.110277814|-0.152237799|  0.60400603| -0.366595412|              0|            0|              0|             0|              0|           0|           0|           1|           0|                 0|             0|                 0|           0|                0|                 0|                  0|                   0|                   0|                   0|                   0|                  1|                          0|                         0|                             0|                 0|                         0|                      0|                            0|                                             0|                          0|                                          0|                                       0|                                            1|                                                0|                             0|                               0|                               0|                          0|                       0|                      0|                    0|                             0|                                  0|                            0|                             0|                          0|                                0|                          0|                         0|                          0|                                 0|                                0|                               0|                           0|                          0|                           0|                        0|                         0|                         0|                              0|                               0|                                       0|                                    0|                         0|                       0|                 0|               0|                       0|                     0|                 0|                   0|                        0|                      0|                     0|                        0|                     0|                       0|                      0|                           0|                             0|                           0|                                  0|                                  0|                                  0|                   0|                     0|                    0|                   0|                                               0|                                             0|                                          0|                                                0|                                                     0|                                               0|                                              0|                                                         0|                                                 0|                           0|                          0|                                   0|                                              0|                                         0|                         0|                   0|                                    0|                                      0|                               0|                                        0|                           0|                            0|                           0|                          0|                        0|                        0|                       0|                       0|                        0|                          0|                            0|                           0|                            0|                              0|                             0|                                        0|                     0|                           0|                    0|    0|(137,[0,1,2,3,4,5...|\n",
            "| 1.958461612|   2.390587612| 2.043549887| 2.360173137| 0.009546849|-0.284904367| 1.629789595|-0.283729978| 0.732996327|   0.34322541|              0|            0|              0|             0|              0|           0|           0|           0|           0|                 0|             0|                 0|           0|                0|                 0|                  0|                   0|                   0|                   0|                   0|                  1|                          0|                         0|                             0|                 0|                         0|                      0|                            0|                                             0|                          0|                                          0|                                       0|                                            0|                                                0|                             0|                               0|                               0|                          0|                       0|                      0|                    0|                             0|                                  0|                            0|                             0|                          0|                                0|                          0|                         0|                          0|                                 0|                                0|                               0|                           0|                          0|                           0|                        0|                         0|                         0|                              0|                               0|                                       0|                                    0|                         0|                       0|                 0|               0|                       0|                     0|                 0|                   0|                        0|                      0|                     0|                        0|                     0|                       0|                      0|                           0|                             0|                           0|                                  0|                                  0|                                  0|                   0|                     0|                    0|                   0|                                               0|                                             0|                                          0|                                                0|                                                     0|                                               0|                                              0|                                                         0|                                                 0|                           0|                          0|                                   1|                                              0|                                         0|                         0|                   0|                                    0|                                      0|                               0|                                        0|                           0|                            0|                           0|                          0|                        0|                        0|                       0|                       0|                        0|                          0|                            0|                           0|                            0|                              0|                             0|                                        0|                     0|                           0|                    0|    0|(137,[0,1,2,3,4,5...|\n",
            "|-0.890255826|  -0.984248027|-0.895286055|-1.136735442| -0.46353468|-0.382793066|-0.404261805|-0.356781188| -2.49176111| -0.721505823|              0|            0|              0|             0|              0|           0|           0|           0|           0|                 0|             0|                 0|           0|                1|                 0|                  0|                   0|                   0|                   0|                   0|                  1|                          0|                         0|                             0|                 0|                         0|                      0|                            0|                                             0|                          0|                                          0|                                       0|                                            0|                                                0|                             1|                               0|                               0|                          0|                       0|                      0|                    0|                             0|                                  0|                            0|                             0|                          0|                                0|                          0|                         0|                          0|                                 0|                                0|                               0|                           0|                          0|                           0|                        0|                         0|                         0|                              0|                               0|                                       0|                                    0|                         0|                       0|                 0|               0|                       0|                     0|                 0|                   0|                        0|                      0|                     0|                        0|                     0|                       0|                      0|                           0|                             0|                           0|                                  0|                                  0|                                  0|                   0|                     0|                    0|                   0|                                               0|                                             0|                                          0|                                                0|                                                     0|                                               0|                                              0|                                                         0|                                                 0|                           0|                          0|                                   0|                                              0|                                         0|                         0|                   0|                                    0|                                      0|                               0|                                        0|                           0|                            0|                           0|                          0|                        0|                        0|                       0|                       0|                        0|                          0|                            0|                           0|                            0|                              0|                             0|                                        0|                     0|                           0|                    0|    0|(137,[0,1,2,3,4,5...|\n",
            "|-0.524253585|  -0.594843915|-0.655769489|-0.895569333|-0.463427137|-0.382793066|-0.432071102|-0.152237799|-0.169935755| -0.508559576|              0|            0|              0|             0|              0|           0|           0|           0|           0|                 0|             0|                 0|           1|                0|                 0|                  0|                   0|                   0|                   0|                   0|                  1|                          0|                         0|                             0|                 0|                         0|                      0|                            0|                                             0|                          0|                                          0|                                       0|                                            0|                                                0|                             1|                               0|                               0|                          0|                       0|                      0|                    0|                             0|                                  0|                            0|                             0|                          0|                                0|                          0|                         0|                          0|                                 0|                                0|                               0|                           0|                          0|                           0|                        0|                         0|                         0|                              0|                               0|                                       0|                                    0|                         0|                       0|                 0|               0|                       0|                     0|                 0|                   0|                        0|                      0|                     0|                        0|                     0|                       0|                      0|                           0|                             0|                           0|                                  0|                                  0|                                  0|                   0|                     0|                    0|                   0|                                               0|                                             0|                                          0|                                                0|                                                     0|                                               0|                                              0|                                                         0|                                                 0|                           0|                          0|                                   0|                                              0|                                         0|                         0|                   0|                                    0|                                      0|                               0|                                        0|                           0|                            0|                           0|                          0|                        0|                        0|                       0|                       0|                        0|                          0|                            0|                           0|                            0|                              0|                             0|                                        0|                     0|                           0|                    0|    0|(137,[0,1,2,3,4,5...|\n",
            "| -0.14605127|  -0.075638432|-0.192895646| 0.491135793|-0.218229164|-0.378175674|-0.344670456|-0.327560704| 0.023549691|   0.34322541|              0|            0|              0|             0|              0|           0|           0|           0|           0|                 0|             0|                 0|           1|                0|                 0|                  0|                   0|                   0|                   0|                   0|                  1|                          0|                         0|                             0|                 0|                         0|                      0|                            0|                                             0|                          0|                                          0|                                       0|                                            0|                                                0|                             0|                               0|                               0|                          0|                       0|                      0|                    0|                             0|                                  0|                            0|                             0|                          0|                                0|                          0|                         0|                          0|                                 0|                                0|                               1|                           0|                          0|                           0|                        0|                         0|                         0|                              0|                               0|                                       0|                                    0|                         0|                       0|                 0|               0|                       0|                     0|                 0|                   0|                        0|                      0|                     0|                        0|                     0|                       0|                      0|                           0|                             0|                           0|                                  0|                                  0|                                  0|                   0|                     0|                    0|                   0|                                               0|                                             0|                                          0|                                                0|                                                     0|                                               0|                                              0|                                                         0|                                                 0|                           0|                          0|                                   0|                                              0|                                         0|                         0|                   0|                                    0|                                      0|                               0|                                        0|                           0|                            0|                           0|                          0|                        0|                        0|                       0|                       0|                        0|                          0|                            0|                           0|                            0|                              0|                             0|                                        0|                     0|                           0|                    0|    0|(137,[0,1,2,3,4,5...|\n",
            "| 0.207750895|  -0.854446657| 0.182718038|-0.835277806| 0.959904082| 1.240681775| 1.284159767|-0.049966104| 0.926481773|  -0.65052374|              0|            0|              0|             0|              0|           0|           0|           0|           0|                 0|             0|                 0|           0|                0|                 0|                  0|                   0|                   0|                   0|                   0|                  1|                          0|                         0|                             0|                 0|                         0|                      0|                            0|                                             0|                          0|                                          0|                                       0|                                            0|                                                0|                             0|                               0|                               0|                          0|                       0|                      0|                    0|                             0|                                  0|                            0|                             0|                          0|                                0|                          0|                         0|                          0|                                 0|                                0|                               0|                           0|                          0|                           0|                        0|                         0|                         0|                              0|                               0|                                       0|                                    0|                         0|                       0|                 0|               0|                       0|                     0|                 0|                   0|                        0|                      0|                     0|                        0|                     0|                       0|                      0|                           0|                             0|                           0|                                  0|                                  0|                                  0|                   0|                     0|                    0|                   0|                                               1|                                             0|                                          0|                                                0|                                                     0|                                               0|                                              0|                                                         0|                                                 0|                           0|                          0|                                   0|                                              0|                                         0|                         0|                   0|                                    0|                                      0|                               0|                                        0|                           0|                            0|                           0|                          0|                        0|                        0|                       0|                       0|                        0|                          0|                            0|                           0|                            0|                              0|                             0|                                        0|                     0|                           0|                    0|    0|(137,[0,1,2,3,4,5...|\n",
            "|-0.792655228|  -0.919347342|-0.476221839|-0.895569333|-0.055409106| 0.082639994|-0.392343535|-0.239899251|-0.879382391| -0.792487905|              0|            0|              0|             0|              0|           0|           0|           0|           0|                 0|             0|                 0|           0|                0|                 0|                  0|                   0|                   0|                   0|                   0|                  1|                          0|                         0|                             0|                 0|                         0|                      0|                            0|                                             0|                          0|                                          0|                                       0|                                            0|                                                0|                             0|                               0|                               0|                          0|                       0|                      0|                    0|                             0|                                  0|                            0|                             0|                          0|                                0|                          0|                         0|                          0|                                 0|                                0|                               0|                           0|                          0|                           0|                        0|                         0|                         0|                              0|                               0|                                       0|                                    0|                         0|                       0|                 0|               0|                       0|                     0|                 0|                   0|                        0|                      0|                     0|                        0|                     0|                       0|                      0|                           0|                             0|                           0|                                  0|                                  0|                                  0|                   0|                     0|                    0|                   0|                                               1|                                             0|                                          0|                                                0|                                                     0|                                               0|                                              0|                                                         0|                                                 0|                           0|                          0|                                   0|                                              0|                                         0|                         0|                   0|                                    0|                                      0|                               0|                                        0|                           0|                            0|                           0|                          0|                        0|                        0|                       0|                       0|                        0|                          0|                            0|                           0|                            0|                              0|                             0|                                        0|                     0|                           0|                    0|    0|(137,[0,1,2,3,4,5...|\n",
            "+------------+--------------+------------+------------+------------+------------+------------+------------+------------+-------------+---------------+-------------+---------------+--------------+---------------+------------+------------+------------+------------+------------------+--------------+------------------+------------+-----------------+------------------+-------------------+--------------------+--------------------+--------------------+--------------------+-------------------+---------------------------+--------------------------+------------------------------+------------------+--------------------------+-----------------------+-----------------------------+----------------------------------------------+---------------------------+-------------------------------------------+----------------------------------------+---------------------------------------------+-------------------------------------------------+------------------------------+--------------------------------+--------------------------------+---------------------------+------------------------+-----------------------+---------------------+------------------------------+-----------------------------------+-----------------------------+------------------------------+---------------------------+---------------------------------+---------------------------+--------------------------+---------------------------+----------------------------------+---------------------------------+--------------------------------+----------------------------+---------------------------+----------------------------+-------------------------+--------------------------+--------------------------+-------------------------------+--------------------------------+----------------------------------------+-------------------------------------+--------------------------+------------------------+------------------+----------------+------------------------+----------------------+------------------+--------------------+-------------------------+-----------------------+----------------------+-------------------------+----------------------+------------------------+-----------------------+----------------------------+------------------------------+----------------------------+-----------------------------------+-----------------------------------+-----------------------------------+--------------------+----------------------+---------------------+--------------------+------------------------------------------------+----------------------------------------------+-------------------------------------------+-------------------------------------------------+------------------------------------------------------+------------------------------------------------+-----------------------------------------------+----------------------------------------------------------+--------------------------------------------------+----------------------------+---------------------------+------------------------------------+-----------------------------------------------+------------------------------------------+--------------------------+--------------------+-------------------------------------+---------------------------------------+--------------------------------+-----------------------------------------+----------------------------+-----------------------------+----------------------------+---------------------------+-------------------------+-------------------------+------------------------+------------------------+-------------------------+---------------------------+-----------------------------+----------------------------+-----------------------------+-------------------------------+------------------------------+-----------------------------------------+----------------------+----------------------------+---------------------+-----+--------------------+\n",
            "only showing top 20 rows\n",
            "\n"
          ]
        }
      ]
    },
    {
      "cell_type": "code",
      "metadata": {
        "colab": {
          "base_uri": "https://localhost:8080/"
        },
        "id": "4u8LB_rJRFBa",
        "outputId": "8b97917f-6d0d-4c58-87e6-53c2c3ca7b8c"
      },
      "source": [
        "df_va_train.select('features').show(5, truncate=False)"
      ],
      "execution_count": null,
      "outputs": [
        {
          "output_type": "stream",
          "name": "stdout",
          "text": [
            "+-----------------------------------------------------------------------------------------------------------------------------------------------------------------------------------+\n",
            "|features                                                                                                                                                                           |\n",
            "+-----------------------------------------------------------------------------------------------------------------------------------------------------------------------------------+\n",
            "|(137,[0,1,2,3,4,5,6,7,8,9,19,30,53],[-0.853655602,-0.854446657,-0.854349191,-0.594111697,-0.452242668,-0.363400022,-0.531390018,-0.37139143,-0.879382391,-0.792487905,1.0,1.0,1.0])|\n",
            "|(137,[0,1,2,3,4,5,6,7,8,9,18,30,53],[-0.731654855,-0.010737747,-0.727588549,-0.172071006,-0.351582447,-0.375405239,-0.440016615,-0.327560704,-2.233780515,0.272243328,1.0,1.0,1.0])|\n",
            "|(137,[0,1,2,3,4,5,6,7,8,9,19,30,71],[0.268751269,2.0011835,0.294037582,1.938132446,0.126230972,2.172471373,-0.408234562,-0.108407072,0.861986625,1.620902889,1.0,1.0,1.0])         |\n",
            "|(137,[0,1,2,3,4,5,6,7,8,9,19,30,42],[0.146750522,0.054162939,0.122390028,-0.172071006,-0.463319594,-0.31537915,0.445908116,-0.37139143,0.217035137,0.272243328,1.0,1.0,1.0])       |\n",
            "|(137,[0,1,2,3,4,5,6,7,8,9,30,94],[3.404170461,1.611779388,3.634701166,1.395508701,2.595417583,5.673377586,7.493578397,2.039298519,0.926481773,1.904831217,1.0,1.0])                |\n",
            "+-----------------------------------------------------------------------------------------------------------------------------------------------------------------------------------+\n",
            "only showing top 5 rows\n",
            "\n"
          ]
        }
      ]
    },
    {
      "cell_type": "markdown",
      "metadata": {
        "id": "mfgUjZLQpb1z"
      },
      "source": [
        "Decision Tree Classifier"
      ]
    },
    {
      "cell_type": "code",
      "metadata": {
        "id": "EQ1IEodYom4l",
        "colab": {
          "base_uri": "https://localhost:8080/"
        },
        "outputId": "98e65674-67cb-42aa-c51e-ecd5d755d4e0"
      },
      "source": [
        "from pyspark.ml.classification import DecisionTreeClassifier\n",
        "from pyspark.ml import Pipeline\n",
        "\n",
        "dt = DecisionTreeClassifier(labelCol=\"CHURN\", featuresCol=\"features\", maxDepth=25, minInstancesPerNode=30, impurity=\"gini\")\n",
        "pipeline = Pipeline(stages=[dt])\n",
        "st = time.time()\n",
        "model = pipeline.fit(df_va_train)\n",
        "et = time.time()\n",
        "print(et-st)"
      ],
      "execution_count": null,
      "outputs": [
        {
          "output_type": "stream",
          "name": "stdout",
          "text": [
            "100.11413717269897\n"
          ]
        }
      ]
    },
    {
      "cell_type": "code",
      "metadata": {
        "scrolled": true,
        "id": "gdeRoTOBom4l"
      },
      "source": [
        "y_pred = model.transform(df_va_test)"
      ],
      "execution_count": null,
      "outputs": []
    },
    {
      "cell_type": "code",
      "metadata": {
        "id": "CR37AVV1om4o",
        "colab": {
          "base_uri": "https://localhost:8080/"
        },
        "outputId": "6c9e9573-26b8-41aa-f8f8-52906249683b"
      },
      "source": [
        "from pyspark.ml.evaluation import BinaryClassificationEvaluator\n",
        "tp = y_pred.filter(y_pred.prediction==1.0).filter(y_pred.prediction == y_pred.CHURN).count()\n",
        "tn = y_pred.filter(y_pred.prediction==0.0).filter(y_pred.prediction == y_pred.CHURN).count()\n",
        "fp = y_pred.filter(y_pred.prediction==1.0).filter(y_pred.prediction != y_pred.CHURN).count()\n",
        "fn = y_pred.filter(y_pred.prediction==0.0).filter(y_pred.prediction != y_pred.CHURN).count()\n",
        "print(\"Accuracy: \", (tp+tn)/(y_pred.count()))\n",
        "print(\"Precision: \", tp/(tp+fp))\n",
        "print(\"Recall: \", tp/(tp+fn))\n",
        "evaluator = BinaryClassificationEvaluator(labelCol=\"CHURN\", metricName='areaUnderROC')\n",
        "print(\"AUC: \", evaluator.evaluate(y_pred))"
      ],
      "execution_count": null,
      "outputs": [
        {
          "output_type": "stream",
          "name": "stdout",
          "text": [
            "Accuracy:  0.9068030509296384\n",
            "Precision:  0.14807398932112892\n",
            "Recall:  0.59433601224646\n",
            "AUC:  0.6052109242258152\n"
          ]
        }
      ]
    },
    {
      "cell_type": "code",
      "metadata": {
        "id": "-HmcmtGoom4s"
      },
      "source": [
        "from pyspark.ml.evaluation import MulticlassClassificationEvaluator\n",
        "\n",
        "evaluatorMulti = MulticlassClassificationEvaluator(labelCol=\"CHURN\", predictionCol=\"prediction\")\n",
        "acc = evaluatorMulti.evaluate(y_pred, {evaluatorMulti.metricName: \"accuracy\"})\n",
        "precision = evaluatorMulti.evaluate(y_pred, {evaluatorMulti.metricName: \"precisionByLabel\"})\n",
        "recall = evaluatorMulti.evaluate(y_pred, {evaluatorMulti.metricName: \"recallByLabel\"})\n",
        "f1 = evaluatorMulti.evaluate(y_pred, {evaluatorMulti.metricName: \"f1\"})\n",
        "roc_auc = evaluatorMulti.evaluate(y_pred)\n"
      ],
      "execution_count": null,
      "outputs": []
    },
    {
      "cell_type": "code",
      "metadata": {
        "id": "N4Hc1mvbom4s",
        "colab": {
          "base_uri": "https://localhost:8080/"
        },
        "outputId": "7437c17d-6a12-43d2-f2c2-81f5598b4891"
      },
      "source": [
        "print(\"accuracy: %f, precision: %f, recall: %f, f1: %f, roc_auc: %f\" % (acc, precision, recall, f1, roc_auc))"
      ],
      "execution_count": null,
      "outputs": [
        {
          "output_type": "stream",
          "name": "stdout",
          "text": [
            "accuracy: 0.912155, precision: 0.988999, recall: 0.920197, f1: 0.936139, roc_auc: 0.936139\n"
          ]
        }
      ]
    },
    {
      "cell_type": "markdown",
      "metadata": {
        "id": "QLSfvZ0WtVHB"
      },
      "source": [
        "Gradient Boosting classification"
      ]
    },
    {
      "cell_type": "code",
      "metadata": {
        "id": "1rC6yhnrom4t",
        "colab": {
          "base_uri": "https://localhost:8080/"
        },
        "outputId": "19ef9ec2-16a4-4c85-cf7c-eb29f2498bce"
      },
      "source": [
        "from pyspark.ml.classification import GBTClassifier\n",
        "# define the classifier \n",
        "gbt = GBTClassifier(labelCol=\"CHURN\", featuresCol=\"features\")\n",
        "\n",
        "# train the classifier with train data \n",
        "st = time.time()\n",
        "GBT = gbt.fit(df_va_train)\n",
        "et = time.time()\n",
        "print(et-st)\n",
        "# predict test data \n",
        "y_pred_GBT = GBT.transform(df_va_test)"
      ],
      "execution_count": null,
      "outputs": [
        {
          "output_type": "stream",
          "name": "stdout",
          "text": [
            "381.95277428627014\n"
          ]
        }
      ]
    },
    {
      "cell_type": "code",
      "metadata": {
        "id": "DOvHxnsCwKoJ"
      },
      "source": [
        "from pyspark.ml.evaluation import MulticlassClassificationEvaluator\n",
        "\n",
        "evaluatorMulti = MulticlassClassificationEvaluator(labelCol=\"CHURN\", predictionCol=\"prediction\")\n",
        "acc = evaluatorMulti.evaluate(y_pred_GBT, {evaluatorMulti.metricName: \"accuracy\"})\n",
        "precision = evaluatorMulti.evaluate(y_pred_GBT, {evaluatorMulti.metricName: \"precisionByLabel\"})\n",
        "recall = evaluatorMulti.evaluate(y_pred_GBT, {evaluatorMulti.metricName: \"recallByLabel\"})\n",
        "f1 = evaluatorMulti.evaluate(y_pred_GBT, {evaluatorMulti.metricName: \"f1\"})\n",
        "roc_auc = evaluatorMulti.evaluate(y_pred_GBT)"
      ],
      "execution_count": null,
      "outputs": []
    },
    {
      "cell_type": "code",
      "metadata": {
        "colab": {
          "base_uri": "https://localhost:8080/"
        },
        "id": "iMaPIqfcw2kq",
        "outputId": "805d4bca-d7e1-480c-f38c-deb473e87dbb"
      },
      "source": [
        "print(\"accuracy: %f, precision: %f, recall: %f, f1: %f, roc_auc: %f\" % (acc, precision, recall, f1, roc_auc))"
      ],
      "execution_count": null,
      "outputs": [
        {
          "output_type": "stream",
          "name": "stdout",
          "text": [
            "accuracy: 0.881497, precision: 0.995248, recall: 0.882752, f1: 0.919041, roc_auc: 0.919041\n"
          ]
        }
      ]
    },
    {
      "cell_type": "markdown",
      "metadata": {
        "id": "nE--y_CSwjXW"
      },
      "source": [
        "Random Forest Classification"
      ]
    },
    {
      "cell_type": "code",
      "metadata": {
        "id": "fxz4TQ9Qom4t",
        "colab": {
          "base_uri": "https://localhost:8080/"
        },
        "outputId": "ca210b7f-304a-4689-838c-bbca034ed8d7"
      },
      "source": [
        "from pyspark.ml.classification import RandomForestClassifier\n",
        "rf = RandomForestClassifier(labelCol=\"CHURN\",featuresCol=\"features\").setImpurity(\"gini\").setMaxDepth(6).setSeed(90)\n",
        "st = time.time()\n",
        "RFC = rf.fit(df_va_train)\n",
        "et = time.time()\n",
        "print(et-st)\n",
        "y_pred_RF = RFC.transform(df_va_test)"
      ],
      "execution_count": null,
      "outputs": [
        {
          "output_type": "stream",
          "name": "stdout",
          "text": [
            "83.42509007453918\n"
          ]
        }
      ]
    },
    {
      "cell_type": "code",
      "metadata": {
        "id": "5BUbt2qNom4u"
      },
      "source": [
        "from pyspark.ml.evaluation import MulticlassClassificationEvaluator\n",
        "\n",
        "evaluatorMulti = MulticlassClassificationEvaluator(labelCol=\"CHURN\", predictionCol=\"prediction\")\n",
        "acc = evaluatorMulti.evaluate(y_pred_RF, {evaluatorMulti.metricName: \"accuracy\"})\n",
        "precision = evaluatorMulti.evaluate(y_pred_RF, {evaluatorMulti.metricName: \"precisionByLabel\"})\n",
        "recall = evaluatorMulti.evaluate(y_pred_RF, {evaluatorMulti.metricName: \"recallByLabel\"})\n",
        "f1 = evaluatorMulti.evaluate(y_pred_RF, {evaluatorMulti.metricName: \"f1\"})\n",
        "roc_auc = evaluatorMulti.evaluate(y_pred_RF)"
      ],
      "execution_count": null,
      "outputs": []
    },
    {
      "cell_type": "code",
      "metadata": {
        "id": "sqDWYIbfom4u",
        "colab": {
          "base_uri": "https://localhost:8080/"
        },
        "outputId": "2f9df1a5-947a-40bc-fa10-0f2d357e8c79"
      },
      "source": [
        "print(\"accuracy: %f, precision: %f, recall: %f, f1: %f, roc_auc: %f\" % (acc, precision, recall, f1, roc_auc))"
      ],
      "execution_count": null,
      "outputs": [
        {
          "output_type": "stream",
          "name": "stdout",
          "text": [
            "accuracy: 0.859575, precision: 0.996849, recall: 0.858783, f1: 0.905955, roc_auc: 0.905955\n"
          ]
        }
      ]
    },
    {
      "cell_type": "markdown",
      "metadata": {
        "id": "-i3qkirlx5Pk"
      },
      "source": [
        "Logistic Regression"
      ]
    },
    {
      "cell_type": "code",
      "metadata": {
        "id": "eu3lx8Z_om4n",
        "colab": {
          "base_uri": "https://localhost:8080/"
        },
        "outputId": "bbca7034-3a75-4b00-bdac-09cc68631284"
      },
      "source": [
        "from pyspark.ml.classification import GBTClassifier, LogisticRegression\n",
        "\n",
        "# define the classifier \n",
        "log_model = LogisticRegression(labelCol=\"CHURN\", featuresCol=\"features\", maxIter=1000)\n",
        "\n",
        "# train the classifier with train data \n",
        "st = time.time()\n",
        "LG = log_model.fit(df_va_train)\n",
        "et = time.time()\n",
        "print(et-st)\n",
        "\n",
        "# predict test data \n",
        "y_pred_LR = LG.transform(df_va_test)"
      ],
      "execution_count": null,
      "outputs": [
        {
          "output_type": "stream",
          "name": "stdout",
          "text": [
            "300.66247844696045\n"
          ]
        }
      ]
    },
    {
      "cell_type": "code",
      "metadata": {
        "id": "Am3GwWh-yUYJ"
      },
      "source": [
        "from pyspark.ml.evaluation import MulticlassClassificationEvaluator\n",
        "\n",
        "evaluatorMulti = MulticlassClassificationEvaluator(labelCol=\"CHURN\", predictionCol=\"prediction\")\n",
        "acc = evaluatorMulti.evaluate(y_pred_LR, {evaluatorMulti.metricName: \"accuracy\"})\n",
        "precision = evaluatorMulti.evaluate(y_pred_LR, {evaluatorMulti.metricName: \"precisionByLabel\"})\n",
        "recall = evaluatorMulti.evaluate(y_pred_LR, {evaluatorMulti.metricName: \"recallByLabel\"})\n",
        "f1 = evaluatorMulti.evaluate(y_pred_LR, {evaluatorMulti.metricName: \"f1\"})\n",
        "roc_auc = evaluatorMulti.evaluate(y_pred_LR)"
      ],
      "execution_count": null,
      "outputs": []
    },
    {
      "cell_type": "code",
      "metadata": {
        "colab": {
          "base_uri": "https://localhost:8080/"
        },
        "id": "RCpsglOAykK4",
        "outputId": "2b588a43-774b-4651-afe8-25613c3b8317"
      },
      "source": [
        "print(\"accuracy: %f, precision: %f, recall: %f, f1: %f, roc_auc: %f\" % (acc, precision, recall, f1, roc_auc))"
      ],
      "execution_count": null,
      "outputs": [
        {
          "output_type": "stream",
          "name": "stdout",
          "text": [
            "accuracy: 0.871025, precision: 0.996414, recall: 0.870939, f1: 0.912866, roc_auc: 0.912866\n"
          ]
        }
      ]
    }
  ]
}